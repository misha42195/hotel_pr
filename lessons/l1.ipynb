{
 "cells": [
  {
   "metadata": {},
   "cell_type": "code",
   "outputs": [],
   "execution_count": null,
   "source": [
    "Ссылка на файл из видео: https://github.com/artemonsh/backend-course/blob/main/_course_helpers/async_intro.ipynb\n",
    "Асинхронность в Python позволяет выполнять задачи одновременно, что повышает производительность при работе с операциями ввода-вывода, такими как обращения к базе данных, сетевые запросы и чтение/запись файлов. В синхронных программах задачи выполняются последовательно, каждая из них блокирует выполнение остальных. Асинхронный подход, напротив, позволяет \"ожидать\" завершения одной задачи, продолжая при этом выполнять другие.\n",
    "\n",
    "async/await\n",
    "Ключевые слова async и await используются для работы с асинхронными функциями. Функция, объявленная с помощью async, может включать операторы await, которые приостанавливают выполнение функции до завершения ожидаемой задачи (например, сетевой запрос). Асинхронные функции не блокируют основной поток программы, что позволяет эффективно использовать ресурсы системы.\n",
    "\n",
    "asyncio.gather\n",
    "asyncio.gather — это полезная функция для выполнения нескольких асинхронных задач параллельно. Она принимает список корутин (асинхронных функций) и возвращает результат выполнения всех этих функций. Это удобно, когда необходимо выполнять несколько задач, не дожидаясь завершения каждой по отдельности.\n",
    "\n",
    "Пример использования:\n",
    "import asyncio\n",
    "import time\n",
    "\n",
    "\n",
    "# Синхронная функция\n",
    "def get_data_from_database(query: str):\n",
    "    print(f\"Получен запрос: {query}\")\n",
    "    if query == \"Сочи\":\n",
    "        time.sleep(4)\n",
    "    elif query == \"Дубай\":\n",
    "        time.sleep(2)\n",
    "    print(f\"Данные получены: {query}\")\n",
    "\n",
    "\n",
    "# Асинхронная функция\n",
    "async def get_data_from_database_async(query: str):\n",
    "    print(f\"Получен запрос: {query}\")\n",
    "    if query == \"Сочи\":\n",
    "        await asyncio.sleep(4)\n",
    "    elif query == \"Дубай\":\n",
    "        await asyncio.sleep(2)\n",
    "    print(f\"Данные получены: {query}\")\n",
    "    return \"Results\"\n",
    "\n",
    "\n",
    "# Пример асинхронного вызова с использованием asyncio.gather\n",
    "async def main():\n",
    "    tasks = [\n",
    "        get_data_from_database_async(\"Сочи\"),\n",
    "        get_data_from_database_async(\"Дубай\")\n",
    "    ]\n",
    "    results = await asyncio.gather(*tasks)\n",
    "    print(\"Все данные получены:\", results)\n",
    "\n",
    "\n",
    "# Запуск программы\n",
    "asyncio.run(main())\n",
    "# В этом примере вместо последовательного выполнения запросов с использованием синхронной функции get_data_from_database, асинхронная функция get_data_from_database_async позволяет запрашивать данные одновременно. Использование asyncio.gather позволяет запускать оба запроса параллельно, что значительно сокращает общее время выполнения программы."
   ],
   "id": "bef512011b77e101"
  },
  {
   "metadata": {},
   "cell_type": "code",
   "outputs": [],
   "execution_count": 11,
   "source": [
    "import asyncio \n",
    "import time\n",
    "\n",
    "def get_data_from_database(query: str):\n",
    "\tprint(\"Отправляем запрос в базу данных\")\n",
    "\tif query == \"Сочи\":\n",
    "\t\ttime.sleep(2)\n",
    "\tif query == \"Москва\":\n",
    "\t\ttime.sleep(1)\n",
    "\treturn f\"Данные из базы данных {query}\""
   ],
   "id": "initial_id"
  },
  {
   "metadata": {
    "ExecuteTime": {
     "end_time": "2024-09-12T05:03:06.439498Z",
     "start_time": "2024-09-12T05:03:04.435742Z"
    }
   },
   "cell_type": "code",
   "source": "get_data_from_database(\"Сочи\")",
   "id": "5d6fb78120f8ac9",
   "outputs": [
    {
     "name": "stdout",
     "output_type": "stream",
     "text": [
      "Отправляем запрос в базу данных\n"
     ]
    },
    {
     "data": {
      "text/plain": [
       "'Данные из базы данных Сочи'"
      ]
     },
     "execution_count": 12,
     "metadata": {},
     "output_type": "execute_result"
    }
   ],
   "execution_count": 12
  },
  {
   "metadata": {
    "ExecuteTime": {
     "end_time": "2024-09-12T05:03:12.696941Z",
     "start_time": "2024-09-12T05:03:12.693647Z"
    }
   },
   "cell_type": "code",
   "source": [
    "async def get_data_from_database_async(query: str):\n",
    "\tprint(\"Отправляем запрос в базу данных\")\n",
    "\tif query == \"Сочи\":\n",
    "\t\tawait asyncio.sleep(2)\n",
    "\tif query == \"Москва\":\n",
    "\t\tawait asyncio.sleep(1)\n",
    "\treturn f\"Данные из базы данных {query}\""
   ],
   "id": "9988e4c4108910d9",
   "outputs": [],
   "execution_count": 13
  },
  {
   "metadata": {
    "ExecuteTime": {
     "end_time": "2024-09-12T05:03:32.771438Z",
     "start_time": "2024-09-12T05:03:29.763518Z"
    }
   },
   "cell_type": "code",
   "source": "",
   "id": "6d051a7cf2fcd84e",
   "outputs": [
    {
     "name": "stdout",
     "output_type": "stream",
     "text": [
      "Отправляем запрос в базу данных\n",
      "Отправляем запрос в базу данных\n"
     ]
    },
    {
     "data": {
      "text/plain": [
       "'Данные из базы данных Москва'"
      ]
     },
     "execution_count": 15,
     "metadata": {},
     "output_type": "execute_result"
    }
   ],
   "execution_count": 15
  },
  {
   "metadata": {
    "ExecuteTime": {
     "end_time": "2024-09-12T05:09:43.964181Z",
     "start_time": "2024-09-12T05:09:43.961680Z"
    }
   },
   "cell_type": "code",
   "source": "task = get_data_from_database_async(\"Сочи\")\n",
   "id": "c6c5bb5ce05753d3",
   "outputs": [],
   "execution_count": 20
  },
  {
   "metadata": {
    "ExecuteTime": {
     "end_time": "2024-09-12T05:07:15.952665Z",
     "start_time": "2024-09-12T05:07:15.938660Z"
    }
   },
   "cell_type": "code",
   "source": "",
   "id": "4a3282f081b01623",
   "outputs": [
    {
     "ename": "RuntimeError",
     "evalue": "asyncio.run() cannot be called from a running event loop",
     "output_type": "error",
     "traceback": [
      "\u001B[0;31m---------------------------------------------------------------------------\u001B[0m",
      "\u001B[0;31mRuntimeError\u001B[0m                              Traceback (most recent call last)",
      "Cell \u001B[0;32mIn[18], line 1\u001B[0m\n\u001B[0;32m----> 1\u001B[0m \u001B[43masyncio\u001B[49m\u001B[38;5;241;43m.\u001B[39;49m\u001B[43mrun\u001B[49m\u001B[43m(\u001B[49m\u001B[43mmain\u001B[49m\u001B[43m(\u001B[49m\u001B[43m)\u001B[49m\u001B[43m)\u001B[49m\n",
      "File \u001B[0;32m/usr/lib/python3.11/asyncio/runners.py:186\u001B[0m, in \u001B[0;36mrun\u001B[0;34m(main, debug)\u001B[0m\n\u001B[1;32m    161\u001B[0m \u001B[38;5;250m\u001B[39m\u001B[38;5;124;03m\"\"\"Execute the coroutine and return the result.\u001B[39;00m\n\u001B[1;32m    162\u001B[0m \n\u001B[1;32m    163\u001B[0m \u001B[38;5;124;03mThis function runs the passed coroutine, taking care of\u001B[39;00m\n\u001B[0;32m   (...)\u001B[0m\n\u001B[1;32m    182\u001B[0m \u001B[38;5;124;03m    asyncio.run(main())\u001B[39;00m\n\u001B[1;32m    183\u001B[0m \u001B[38;5;124;03m\"\"\"\u001B[39;00m\n\u001B[1;32m    184\u001B[0m \u001B[38;5;28;01mif\u001B[39;00m events\u001B[38;5;241m.\u001B[39m_get_running_loop() \u001B[38;5;129;01mis\u001B[39;00m \u001B[38;5;129;01mnot\u001B[39;00m \u001B[38;5;28;01mNone\u001B[39;00m:\n\u001B[1;32m    185\u001B[0m     \u001B[38;5;66;03m# fail fast with short traceback\u001B[39;00m\n\u001B[0;32m--> 186\u001B[0m     \u001B[38;5;28;01mraise\u001B[39;00m \u001B[38;5;167;01mRuntimeError\u001B[39;00m(\n\u001B[1;32m    187\u001B[0m         \u001B[38;5;124m\"\u001B[39m\u001B[38;5;124masyncio.run() cannot be called from a running event loop\u001B[39m\u001B[38;5;124m\"\u001B[39m)\n\u001B[1;32m    189\u001B[0m \u001B[38;5;28;01mwith\u001B[39;00m Runner(debug\u001B[38;5;241m=\u001B[39mdebug) \u001B[38;5;28;01mas\u001B[39;00m runner:\n\u001B[1;32m    190\u001B[0m     \u001B[38;5;28;01mreturn\u001B[39;00m runner\u001B[38;5;241m.\u001B[39mrun(main)\n",
      "\u001B[0;31mRuntimeError\u001B[0m: asyncio.run() cannot be called from a running event loop"
     ]
    }
   ],
   "execution_count": 18
  },
  {
   "metadata": {},
   "cell_type": "code",
   "outputs": [],
   "execution_count": null,
   "source": "",
   "id": "20005eb4e96663d4"
  }
 ],
 "metadata": {
  "kernelspec": {
   "display_name": "Python 3",
   "language": "python",
   "name": "python3"
  },
  "language_info": {
   "codemirror_mode": {
    "name": "ipython",
    "version": 2
   },
   "file_extension": ".py",
   "mimetype": "text/x-python",
   "name": "python",
   "nbconvert_exporter": "python",
   "pygments_lexer": "ipython2",
   "version": "2.7.6"
  }
 },
 "nbformat": 4,
 "nbformat_minor": 5
}
