{
 "cells": [
  {
   "cell_type": "code",
   "id": "initial_id",
   "metadata": {
    "collapsed": true,
    "ExecuteTime": {
     "end_time": "2024-09-13T10:43:02.413887Z",
     "start_time": "2024-09-13T10:43:02.411589Z"
    }
   },
   "source": [
    "from fastapi import Query\n",
    "\n",
    "q = Query(title=\"Какой-то идентификатор\", default=\"misha\")"
   ],
   "outputs": [],
   "execution_count": 9
  },
  {
   "metadata": {
    "ExecuteTime": {
     "end_time": "2024-09-13T10:43:11.177267Z",
     "start_time": "2024-09-13T10:43:11.169476Z"
    }
   },
   "cell_type": "code",
   "source": "q.title",
   "id": "3836350a7a90ef33",
   "outputs": [
    {
     "data": {
      "text/plain": [
       "'Какой-то идентификатор'"
      ]
     },
     "execution_count": 11,
     "metadata": {},
     "output_type": "execute_result"
    }
   ],
   "execution_count": 11
  },
  {
   "metadata": {},
   "cell_type": "code",
   "outputs": [],
   "execution_count": null,
   "source": "",
   "id": "716c035449c19993"
  }
 ],
 "metadata": {
  "kernelspec": {
   "display_name": "Python 3",
   "language": "python",
   "name": "python3"
  },
  "language_info": {
   "codemirror_mode": {
    "name": "ipython",
    "version": 2
   },
   "file_extension": ".py",
   "mimetype": "text/x-python",
   "name": "python",
   "nbconvert_exporter": "python",
   "pygments_lexer": "ipython2",
   "version": "2.7.6"
  }
 },
 "nbformat": 4,
 "nbformat_minor": 5
}
